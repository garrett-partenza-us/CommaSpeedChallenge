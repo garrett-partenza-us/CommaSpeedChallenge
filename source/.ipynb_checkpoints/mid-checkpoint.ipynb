{
 "cells": [
  {
   "cell_type": "code",
   "execution_count": 1,
   "metadata": {},
   "outputs": [
    {
     "data": {
      "text/plain": [
       "True"
      ]
     },
     "execution_count": 1,
     "metadata": {},
     "output_type": "execute_result"
    }
   ],
   "source": [
    "import torch\n",
    "torch.cuda.is_available()"
   ]
  },
  {
   "cell_type": "code",
   "execution_count": 2,
   "metadata": {},
   "outputs": [
    {
     "name": "stdout",
     "output_type": "stream",
     "text": [
      "total    : 12790923264\n",
      "free     : 12788695040\n",
      "used     : 2228224\n"
     ]
    }
   ],
   "source": [
    "from pynvml import *\n",
    "nvmlInit()\n",
    "h = nvmlDeviceGetHandleByIndex(0)\n",
    "info = nvmlDeviceGetMemoryInfo(h)\n",
    "print(f'total    : {info.total}')\n",
    "print(f'free     : {info.free}')\n",
    "print(f'used     : {info.used}')"
   ]
  },
  {
   "cell_type": "code",
   "execution_count": 3,
   "metadata": {},
   "outputs": [],
   "source": [
    "import pandas as pd\n",
    "images = pd.read_pickle('../data/images.pkl')"
   ]
  },
  {
   "cell_type": "code",
   "execution_count": 4,
   "metadata": {},
   "outputs": [],
   "source": [
    "from PIL import Image\n",
    "from pathlib import Path\n",
    "from IPython import display\n",
    "from IPython.core.interactiveshell import InteractiveShell\n",
    "img, *imgs = [Image.fromarray(image.reshape(480,640,3).numpy()) for image in images[:100]]\n",
    "img.save(fp='../charts/of.gif', format='GIF', append_images=imgs, save_all=True, duration=200, loop=0)\n",
    "InteractiveShell.ast_node_interactivity = \"all\"\n",
    "InteractiveShell.ast_node_interactivity = \"all\"\n",
    "gifPath = Path(\"../charts/of.gif\")\n",
    "# Display GIF in Jupyter, CoLab, IPython\n",
    "with open(gifPath,'rb') as f:\n",
    "    display.Image(data=f.read(), format='png')"
   ]
  },
  {
   "cell_type": "code",
   "execution_count": 5,
   "metadata": {},
   "outputs": [],
   "source": [
    "import numpy as np\n",
    "labels = None\n",
    "with open(\"../speedchallenge/data/train.txt\") as f:\n",
    "    labels = (list(map(float, f.read().splitlines()))[1:])\n",
    "labels = np.array(labels)"
   ]
  },
  {
   "cell_type": "code",
   "execution_count": 6,
   "metadata": {},
   "outputs": [
    {
     "data": {
      "text/plain": [
       "[<matplotlib.lines.Line2D at 0x2ae973e63ad0>]"
      ]
     },
     "execution_count": 6,
     "metadata": {},
     "output_type": "execute_result"
    },
    {
     "data": {
      "text/plain": [
       "<matplotlib.legend.Legend at 0x2ae973cd3190>"
      ]
     },
     "execution_count": 6,
     "metadata": {},
     "output_type": "execute_result"
    },
    {
     "data": {
      "image/png": "[encoded data removed]",
      "text/plain": [
       "<Figure size 432x288 with 1 Axes>"
      ]
     },
     "metadata": {
      "needs_background": "light"
     },
     "output_type": "display_data"
    }
   ],
   "source": [
    "import matplotlib.pyplot as plt\n",
    "plt.plot(labels, color='teal', label='speed')\n",
    "plt.legend()"
   ]
  },
  {
   "cell_type": "code",
   "execution_count": 7,
   "metadata": {},
   "outputs": [],
   "source": [
    "import torch\n",
    "from torch import nn\n",
    "class Model(nn.Module):\n",
    "    def __init__(self, input_size, output_size, hidden_dim, n_layers):\n",
    "        super(Model, self).__init__()\n",
    "\n",
    "        # Defining some parameters\n",
    "        self.hidden_dim = hidden_dim\n",
    "        self.n_layers = n_layers\n",
    "        self.conv1 = nn.Conv2d(1280, 512, 5, stride=2)\n",
    "        self.conv2 = nn.Conv2d(512, 256, 5, stride=2)\n",
    "\n",
    "        #Defining the layers\n",
    "        # RNN Layer\n",
    "        self.rnn = nn.RNN(input_size, hidden_dim, 1, batch_first=True, bidirectional=False)   \n",
    "        # Fully connected layer\n",
    "        self.fc1 = nn.Linear(hidden_dim, 2**8)\n",
    "        self.fc2 = nn.Linear(2**8, 2**6)\n",
    "        self.fc3 = nn.Linear(2**6, 1)\n",
    "    \n",
    "    def forward(self, x):\n",
    "        \n",
    "        x = x.reshape(8*5, x.shape[2], x.shape[3], x.shape[4])\n",
    "        x = self.conv1(x)\n",
    "        x = self.conv2(x)\n",
    "        x = x.reshape(8, 5, -1)\n",
    "        \n",
    "        batch_size = x.size(0)\n",
    "\n",
    "        #Initializing hidden state for first input using method defined below\n",
    "        hidden = self.init_hidden(batch_size)\n",
    "        \n",
    "        # Passing in the input and hidden state into the model and obtaining outputs\n",
    "        out, hidden = self.rnn(x, hidden)\n",
    "        out = out[:,seq_length-1::seq_length-1].reshape(-1, hidden_dim)\n",
    "        \n",
    "        # Reshaping the outputs such that it can be fit into the fully connected layer\n",
    "        #out = out.contiguous().view(-1, self.hidden_dim)\n",
    "        out = self.fc1(out)\n",
    "        out = self.fc2(out)\n",
    "        out = self.fc3(out)\n",
    "        \n",
    "        return out, hidden\n",
    "    \n",
    "    def init_hidden(self, batch_size):\n",
    "        # This method generates the first hidden state of zeros which we'll use in the forward pass\n",
    "        hidden = torch.zeros(1, batch_size, self.hidden_dim).cuda()\n",
    "         # We'll send the tensor holding the hidden state to the device we specified earlier as well\n",
    "        return hidden"
   ]
  },
  {
   "cell_type": "code",
   "execution_count": 8,
   "metadata": {},
   "outputs": [
    {
     "data": {
      "text/plain": [
       "Model(\n",
       "  (conv1): Conv2d(1280, 512, kernel_size=(5, 5), stride=(2, 2))\n",
       "  (conv2): Conv2d(512, 256, kernel_size=(5, 5), stride=(2, 2))\n",
       "  (rnn): RNN(512, 256, batch_first=True)\n",
       "  (fc1): Linear(in_features=256, out_features=256, bias=True)\n",
       "  (fc2): Linear(in_features=256, out_features=64, bias=True)\n",
       "  (fc3): Linear(in_features=64, out_features=1, bias=True)\n",
       ")"
      ]
     },
     "execution_count": 8,
     "metadata": {},
     "output_type": "execute_result"
    }
   ],
   "source": [
    "from torch.optim.lr_scheduler import ExponentialLR\n",
    "batch_size = 8\n",
    "seq_length = 5\n",
    "n_features = 512\n",
    "n_epochs = 100\n",
    "n_train_examples = 1000\n",
    "n_test_examples = 100\n",
    "hidden_dim = 2**8\n",
    "lr=1e-2\n",
    "model = Model(input_size=n_features, output_size=1, hidden_dim=hidden_dim, n_layers=1)\n",
    "optimizer = torch.optim.Adam(model.parameters(), lr=lr)\n",
    "scheduler = ExponentialLR(optimizer, gamma=0.99)\n",
    "criterion = nn.MSELoss()\n",
    "device = torch.device(\"cuda:0\" if torch.cuda.is_available() else \"cpu\")\n",
    "model.to(device)"
   ]
  },
  {
   "cell_type": "code",
   "execution_count": 9,
   "metadata": {},
   "outputs": [],
   "source": [
    "%%capture\n",
    "from efficientnet_pytorch import EfficientNet\n",
    "cnn = EfficientNet.from_pretrained('efficientnet-b0')\n",
    "cnn.to(device)"
   ]
  },
  {
   "cell_type": "code",
   "execution_count": 10,
   "metadata": {},
   "outputs": [],
   "source": [
    "from tqdm import tqdm\n",
    "from torch.utils.data import DataLoader\n",
    "import torchvision.models as models\n",
    "from torch.autograd import Variable\n",
    "res = models.resnet18(pretrained=True).to(\"cuda\")\n",
    "\n",
    "def get_loader(n, batch_size):\n",
    "    sample_images = images.reset_index()[seq_length:len(images)].sample(n).index\n",
    "    sequences, targets = [], []\n",
    "    for sample in tqdm(sample_images):\n",
    "        window = images.reset_index()[sample-seq_length+1:sample+1].Image\n",
    "        temp = []\n",
    "        for of in window:\n",
    "            im = torch.tensor(of.reshape(1,3,480,640).numpy()).float().cuda()\n",
    "            features = cnn.extract_features(im).detach().cpu().numpy()\n",
    "            features = features.reshape(features.shape[1:])\n",
    "            temp.append(features)\n",
    "        label = labels[sample-seq_length+1:sample+1]\n",
    "        sequences.append(np.array(temp))\n",
    "        targets.append(label)\n",
    "    return sequences, targets"
   ]
  },
  {
   "cell_type": "code",
   "execution_count": 11,
   "metadata": {},
   "outputs": [],
   "source": [
    "class MyTrainDataloader(torch.utils.data.Dataset):\n",
    "    def __init__(self):\n",
    "        self.images = torch.Tensor(x_train)\n",
    "\n",
    "    def __len__(self):\n",
    "        return len(x_train)\n",
    "\n",
    "    def __getitem__(self, idx):\n",
    "        return self.images[idx, :, :], y_train[idx]\n",
    "    \n",
    "class MyTestDataLoader(torch.utils.data.Dataset):\n",
    "    def __init__(self):\n",
    "        self.images = torch.Tensor(x_test)\n",
    "\n",
    "    def __len__(self):\n",
    "        return len(x_test)\n",
    "\n",
    "    def __getitem__(self, idx):\n",
    "        return self.images[idx, :, :], y_test[idx]"
   ]
  },
  {
   "cell_type": "code",
   "execution_count": null,
   "metadata": {},
   "outputs": [
    {
     "name": "stderr",
     "output_type": "stream",
     "text": [
      "100%|██████████| 1000/1000 [02:57<00:00,  5.64it/s]\n",
      "100%|██████████| 100/100 [00:18<00:00,  7.31it/s]"
     ]
    }
   ],
   "source": [
    "x_train, y_train = get_loader(n_train_examples, batch_size)\n",
    "x_test, y_test = get_loader(n_test_examples, batch_size)\n",
    "\n",
    "train_data = MyTrainDataloader()\n",
    "train_loader = torch.utils.data.DataLoader(train_data,\n",
    "                                           shuffle=True,\n",
    "                                           num_workers=2,\n",
    "                                           batch_size=batch_size,\n",
    "                                           drop_last=True)\n",
    "\n",
    "test_data = MyTestDataLoader()\n",
    "test_loader = torch.utils.data.DataLoader(test_data,\n",
    "                                           shuffle=True,\n",
    "                                           num_workers=2,\n",
    "                                           batch_size=batch_size,\n",
    "                                           drop_last=True)"
   ]
  },
  {
   "cell_type": "code",
   "execution_count": null,
   "metadata": {},
   "outputs": [],
   "source": [
    "%%capture\n",
    "from IPython.utils import io\n",
    "\n",
    "def train():\n",
    "    with io.capture_output() as captured:\n",
    "        model.train()\n",
    "\n",
    "def test():\n",
    "    with io.capture_output() as captured:\n",
    "        model.eval()"
   ]
  },
  {
   "cell_type": "code",
   "execution_count": null,
   "metadata": {},
   "outputs": [],
   "source": [
    "import warnings\n",
    "import statistics\n",
    "warnings.filterwarnings(\"ignore\")\n",
    "\n",
    "batch_train_loss = []\n",
    "train_loss = []\n",
    "val_loss = []\n",
    "\n",
    "for epoch in range(1, n_epochs + 1):\n",
    "    train()\n",
    "    train_loss = []\n",
    "    for batch in train_loader:\n",
    "        x = batch[0]\n",
    "        y = batch[1]\n",
    "        optimizer.zero_grad()\n",
    "        output, hidden = model(torch.tensor(x).cuda())\n",
    "        loss = criterion(output.flatten(), torch.tensor(y)[:,-1].flatten().float().cuda())\n",
    "        loss.backward()\n",
    "        optimizer.step()\n",
    "        train_loss.append(loss.item())\n",
    "        batch_train_loss.append(loss.item())\n",
    "    scheduler.step()\n",
    "    \n",
    "    if epoch%1 == 0:\n",
    "        test()\n",
    "        val_loss = []\n",
    "        for batch in test_loader:\n",
    "            x = batch[0]\n",
    "            y = batch[1]\n",
    "            output, hidden = model(torch.tensor(x).cuda())\n",
    "            loss = criterion(output.flatten(), torch.tensor(y)[:,-1].flatten().float().cuda())\n",
    "            val_loss.append(loss.item())\n",
    "        print('Epoch: {}/{}.............'.format(epoch, n_epochs))\n",
    "        print(\"Train MSE: {:.4f}\".format(statistics.mean(train_loss)))\n",
    "        print(\"Val MSE: {:.4f}\".format(statistics.mean(val_loss)), \"\\n\")\n",
    "        train_loss.append(statistics.mean(train_loss))\n",
    "        val_loss.append(statistics.mean(val_loss))"
   ]
  },
  {
   "cell_type": "code",
   "execution_count": null,
   "metadata": {},
   "outputs": [],
   "source": [
    "y = torch.rand(4,5)\n",
    "print(y)\n",
    "y = y[:,-1].flatten()\n",
    "print(y)\n",
    "out = torch.rand(4,1).flatten()\n",
    "print(out)"
   ]
  },
  {
   "cell_type": "code",
   "execution_count": null,
   "metadata": {},
   "outputs": [],
   "source": [
    "criterion(out,y)"
   ]
  },
  {
   "cell_type": "code",
   "execution_count": null,
   "metadata": {},
   "outputs": [],
   "source": []
  }
 ],
 "metadata": {
  "kernelspec": {
   "display_name": "Python 3 (ipykernel)",
   "language": "python",
   "name": "python3"
  },
  "language_info": {
   "codemirror_mode": {
    "name": "ipython",
    "version": 3
   },
   "file_extension": ".py",
   "mimetype": "text/x-python",
   "name": "python",
   "nbconvert_exporter": "python",
   "pygments_lexer": "ipython3",
   "version": "3.7.11"
  }
 },
 "nbformat": 4,
 "nbformat_minor": 4
}
