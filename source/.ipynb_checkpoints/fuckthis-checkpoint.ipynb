{
 "cells": [
  {
   "cell_type": "code",
   "execution_count": 1,
   "metadata": {},
   "outputs": [
    {
     "name": "stdout",
     "output_type": "stream",
     "text": [
      "Collecting package metadata (current_repodata.json): done\n",
      "Solving environment: done\n",
      "\n",
      "## Package Plan ##\n",
      "\n",
      "  environment location: /home/partenza.g/.conda/envs/pytorch_env\n",
      "\n",
      "  added / updated specs:\n",
      "    - efficientnet-pytorch\n",
      "\n",
      "\n",
      "The following packages will be downloaded:\n",
      "\n",
      "    package                    |            build\n",
      "    ---------------------------|-----------------\n",
      "    efficientnet-pytorch-0.7.1 |     pyhd8ed1ab_0          22 KB  conda-forge\n",
      "    ------------------------------------------------------------\n",
      "                                           Total:          22 KB\n",
      "\n",
      "The following NEW packages will be INSTALLED:\n",
      "\n",
      "  efficientnet-pyto~ conda-forge/noarch::efficientnet-pytorch-0.7.1-pyhd8ed1ab_0\n",
      "\n",
      "The following packages will be UPDATED:\n",
      "\n",
      "  certifi            pkgs/main::certifi-2021.10.8-py37h06a~ --> conda-forge::certifi-2021.10.8-py37h89c1867_1\n",
      "\n",
      "The following packages will be SUPERSEDED by a higher-priority channel:\n",
      "\n",
      "  ca-certificates    pkgs/main::ca-certificates-2021.10.26~ --> conda-forge::ca-certificates-2021.10.8-ha878542_0\n",
      "\n",
      "\n",
      "\n",
      "Downloading and Extracting Packages\n",
      "efficientnet-pytorch | 22 KB     | ##################################### | 100% \n",
      "Preparing transaction: done\n",
      "Verifying transaction: done\n",
      "Executing transaction: done\n"
     ]
    }
   ],
   "source": [
    "!conda install -c conda-forge efficientnet-pytorch -y"
   ]
  },
  {
   "cell_type": "code",
   "execution_count": 3,
   "metadata": {},
   "outputs": [
    {
     "name": "stdout",
     "output_type": "stream",
     "text": [
      "# packages in environment at /home/partenza.g/.conda/envs/pytorch_env:\r\n",
      "#\r\n",
      "# Name                    Version                   Build  Channel\r\n",
      "_libgcc_mutex             0.1                        main  \r\n",
      "_openmp_mutex             4.5                       1_gnu  \r\n",
      "blas                      1.0                         mkl  \r\n",
      "bottleneck                1.3.2            py37heb32a55_1  \r\n",
      "brotli                    1.0.9                he6710b0_2  \r\n",
      "bzip2                     1.0.8                h7f98852_4    conda-forge\r\n",
      "ca-certificates           2021.10.8            ha878542_0    conda-forge\r\n",
      "certifi                   2021.10.8        py37h89c1867_1    conda-forge\r\n",
      "cudatoolkit               11.1.1               h6406543_8    conda-forge\r\n",
      "cycler                    0.11.0             pyhd3eb1b0_0  \r\n",
      "dbus                      1.13.18              hb2f20db_0  \r\n",
      "efficientnet-pytorch      0.7.1              pyhd8ed1ab_0    conda-forge\r\n",
      "expat                     2.4.1                h2531618_2  \r\n",
      "ffmpeg                    4.3                  hf484d3e_0    pytorch\r\n",
      "fontconfig                2.13.1               h6c09931_0  \r\n",
      "fonttools                 4.25.0             pyhd3eb1b0_0  \r\n",
      "freetype                  2.10.4               h0708190_1    conda-forge\r\n",
      "giflib                    5.2.1                h7b6447c_0  \r\n",
      "glib                      2.69.1               h5202010_0  \r\n",
      "gmp                       6.2.1                h58526e2_0    conda-forge\r\n",
      "gnutls                    3.6.13               h85f3911_1    conda-forge\r\n",
      "gst-plugins-base          1.14.0               h8213a91_2  \r\n",
      "gstreamer                 1.14.0               h28cd5cc_2  \r\n",
      "icu                       58.2                 he6710b0_3  \r\n",
      "intel-openmp              2021.4.0          h06a4308_3561  \r\n",
      "joblib                    1.1.0              pyhd3eb1b0_0  \r\n",
      "jpeg                      9b                   h024ee3a_2  \r\n",
      "kiwisolver                1.3.1            py37h2531618_0  \r\n",
      "lame                      3.100             h7f98852_1001    conda-forge\r\n",
      "lcms2                     2.12                 h3be6417_0  \r\n",
      "ld_impl_linux-64          2.35.1               h7274673_9  \r\n",
      "libffi                    3.3                  he6710b0_2  \r\n",
      "libgcc-ng                 9.3.0               h5101ec6_17  \r\n",
      "libgfortran-ng            7.5.0               ha8ba4b0_17  \r\n",
      "libgfortran4              7.5.0               ha8ba4b0_17  \r\n",
      "libgomp                   9.3.0               h5101ec6_17  \r\n",
      "libiconv                  1.16                 h516909a_0    conda-forge\r\n",
      "libpng                    1.6.37               h21135ba_2    conda-forge\r\n",
      "libstdcxx-ng              9.3.0               hd4cf53a_17  \r\n",
      "libtiff                   4.2.0                h85742a9_0  \r\n",
      "libuuid                   1.0.3                h7f8727e_2  \r\n",
      "libuv                     1.42.0               h7f98852_0    conda-forge\r\n",
      "libwebp                   1.2.0                h89dd481_0  \r\n",
      "libwebp-base              1.2.0                h27cfd23_0  \r\n",
      "libxcb                    1.14                 h7b6447c_0  \r\n",
      "libxml2                   2.9.12               h03d6c58_0  \r\n",
      "lz4-c                     1.9.3                h295c915_1  \r\n",
      "matplotlib                3.4.3            py37h06a4308_0  \r\n",
      "matplotlib-base           3.4.3            py37hbbc1b5f_0  \r\n",
      "mkl                       2021.4.0           h06a4308_640  \r\n",
      "mkl-service               2.4.0            py37h7f8727e_0  \r\n",
      "mkl_fft                   1.3.1            py37hd3c417c_0  \r\n",
      "mkl_random                1.2.2            py37h51133e4_0  \r\n",
      "munkres                   1.1.4                      py_0  \r\n",
      "ncurses                   6.3                  h7f8727e_2  \r\n",
      "nettle                    3.6                  he412f7d_0    conda-forge\r\n",
      "ninja                     1.10.2               h4bd325d_0    conda-forge\r\n",
      "numexpr                   2.7.3            py37h22e1b3c_1  \r\n",
      "numpy                     1.21.2           py37h20f2e39_0  \r\n",
      "numpy-base                1.21.2           py37h79a1101_0  \r\n",
      "olefile                   0.46               pyh9f0ad1d_1    conda-forge\r\n",
      "openh264                  2.1.1                h780b84a_0    conda-forge\r\n",
      "openssl                   1.1.1l               h7f8727e_0  \r\n",
      "pandas                    1.3.4            py37h8c16a72_0  \r\n",
      "pcre                      8.45                 h295c915_0  \r\n",
      "pillow                    8.4.0            py37h5aabda8_0  \r\n",
      "pip                       21.2.2           py37h06a4308_0  \r\n",
      "pyparsing                 3.0.4              pyhd3eb1b0_0  \r\n",
      "pyqt                      5.9.2            py37h05f1152_2  \r\n",
      "python                    3.7.11               h12debd9_0  \r\n",
      "python-dateutil           2.8.2              pyhd3eb1b0_0  \r\n",
      "python_abi                3.7                     2_cp37m    conda-forge\r\n",
      "pytorch                   1.8.0           py3.7_cuda11.1_cudnn8.0.5_0    pytorch\r\n",
      "pytz                      2021.3             pyhd3eb1b0_0  \r\n",
      "qt                        5.9.7                h5867ecd_1  \r\n",
      "readline                  8.1                  h27cfd23_0  \r\n",
      "scikit-learn              1.0.1            py37h51133e4_0  \r\n",
      "scipy                     1.7.1            py37h292c36d_2  \r\n",
      "setuptools                58.0.4           py37h06a4308_0  \r\n",
      "sip                       4.19.8           py37hf484d3e_0  \r\n",
      "six                       1.16.0             pyh6c4a22f_0    conda-forge\r\n",
      "sqlite                    3.36.0               hc218d9a_0  \r\n",
      "threadpoolctl             2.2.0              pyh0d69192_0  \r\n",
      "tk                        8.6.11               h1ccaba5_0  \r\n",
      "torchaudio                0.8.0                      py37    pytorch\r\n",
      "torchvision               0.9.0                py37_cu111    pytorch\r\n",
      "tornado                   6.1              py37h27cfd23_0  \r\n",
      "typing_extensions         4.0.1              pyha770c72_0    conda-forge\r\n",
      "wheel                     0.37.0             pyhd3eb1b0_1  \r\n",
      "xz                        5.2.5                h7b6447c_0  \r\n",
      "zlib                      1.2.11               h7b6447c_3  \r\n",
      "zstd                      1.4.9                haebb681_0  \r\n"
     ]
    }
   ],
   "source": [
    "!conda list"
   ]
  },
  {
   "cell_type": "code",
   "execution_count": 4,
   "metadata": {},
   "outputs": [
    {
     "ename": "ModuleNotFoundError",
     "evalue": "No module named 'efficientnet_pytorch'",
     "output_type": "error",
     "traceback": [
      "\u001b[0;31m---------------------------------------------------------------------------\u001b[0m",
      "\u001b[0;31mModuleNotFoundError\u001b[0m                       Traceback (most recent call last)",
      "\u001b[0;32m<ipython-input-4-aa70ed948038>\u001b[0m in \u001b[0;36m<module>\u001b[0;34m\u001b[0m\n\u001b[0;32m----> 1\u001b[0;31m \u001b[0;32mfrom\u001b[0m \u001b[0mefficientnet_pytorch\u001b[0m \u001b[0;32mimport\u001b[0m \u001b[0mEfficientNet\u001b[0m\u001b[0;34m\u001b[0m\u001b[0;34m\u001b[0m\u001b[0m\n\u001b[0m",
      "\u001b[0;31mModuleNotFoundError\u001b[0m: No module named 'efficientnet_pytorch'"
     ]
    }
   ],
   "source": [
    "from efficientnet_pytorch import EfficientNet"
   ]
  },
  {
   "cell_type": "code",
   "execution_count": 5,
   "metadata": {},
   "outputs": [
    {
     "ename": "SyntaxError",
     "evalue": "invalid syntax (<ipython-input-5-9c801e6a6727>, line 1)",
     "output_type": "error",
     "traceback": [
      "\u001b[0;36m  File \u001b[0;32m\"<ipython-input-5-9c801e6a6727>\"\u001b[0;36m, line \u001b[0;32m1\u001b[0m\n\u001b[0;31m    from efficientnet-pytorch import EfficientNet\u001b[0m\n\u001b[0m                     ^\u001b[0m\n\u001b[0;31mSyntaxError\u001b[0m\u001b[0;31m:\u001b[0m invalid syntax\n"
     ]
    }
   ],
   "source": [
    "from efficientnet-pytorch import EfficientNet\n",
    "cnn = EfficientNet.from_pretrained('efficientnet-b0').cuda()\n",
    "cnn = torch.nn.DataParallel(cnn)"
   ]
  },
  {
   "cell_type": "code",
   "execution_count": null,
   "metadata": {},
   "outputs": [],
   "source": []
  }
 ],
 "metadata": {
  "kernelspec": {
   "display_name": "Python 3",
   "language": "python",
   "name": "python3"
  },
  "language_info": {
   "codemirror_mode": {
    "name": "ipython",
    "version": 3
   },
   "file_extension": ".py",
   "mimetype": "text/x-python",
   "name": "python",
   "nbconvert_exporter": "python",
   "pygments_lexer": "ipython3",
   "version": "3.8.8"
  }
 },
 "nbformat": 4,
 "nbformat_minor": 2
}
