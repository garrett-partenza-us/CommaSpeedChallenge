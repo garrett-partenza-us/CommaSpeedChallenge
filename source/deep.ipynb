{
 "cells": [
  {
   "cell_type": "code",
   "execution_count": 1,
   "metadata": {},
   "outputs": [],
   "source": [
    "#imports\n",
    "import torch\n",
    "from torch import nn\n",
    "import pandas as pd\n",
    "import numpy as np\n",
    "from torch.optim.lr_scheduler import ExponentialLR\n",
    "from efficientnet_pytorch import EfficientNet\n",
    "from tqdm import tqdm\n",
    "from torch.utils.data import DataLoader\n",
    "from IPython.utils import io\n",
    "import warnings\n",
    "import statistics"
   ]
  },
  {
   "cell_type": "code",
   "execution_count": 2,
   "metadata": {},
   "outputs": [],
   "source": [
    "#read in optical flow rgb images file\n",
    "images = pd.read_pickle('../data/images.pkl')\n",
    "images = images.reset_index()\n",
    "#read labels\n",
    "labels = None\n",
    "with open(\"../speedchallenge/data/train.txt\") as f:\n",
    "    #we drop the first label cause optical flow is two images\n",
    "    labels = (list(map(float, f.read().splitlines()))[1:])\n",
    "labels = np.array(labels)"
   ]
  },
  {
   "cell_type": "code",
   "execution_count": 3,
   "metadata": {},
   "outputs": [],
   "source": [
    "#model class\n",
    "class Model(nn.Module):\n",
    "    \n",
    "    def __init__(self, rnn_features, rnn_hidden, batch_size, seq_length):\n",
    "        \n",
    "        super(Model, self).__init__()\n",
    "        #initialize parameters\n",
    "        self.rnn_features = rnn_features\n",
    "        self.rnn_hidden = rnn_hidden\n",
    "        self.batch_size = batch_size\n",
    "        self.seq_length = seq_length\n",
    "        #representation layer\n",
    "        self.conv1 = nn.Conv2d(1280, 2048, 5, stride=2)\n",
    "        self.conv2 = nn.Conv2d(2048, 4096, 5, stride=2)\n",
    "        #temporal layer\n",
    "        self.rnn = nn.RNN(rnn_features, rnn_hidden, 1, batch_first=True, bidirectional=False)   \n",
    "        #decision layer\n",
    "        self.fc1 = nn.Linear(rnn_hidden, 2**9)\n",
    "        self.fc2 = nn.Linear(2**9, 2**7)\n",
    "        self.fc3 = nn.Linear(2**7, 1)\n",
    "    \n",
    "    def forward(self, x):\n",
    "        \n",
    "        #unravel windows for cnn layer\n",
    "        x = x.reshape(self.batch_size*self.seq_length, x.shape[2], x.shape[3], x.shape[4])\n",
    "        #apply convolutions\n",
    "        x = self.conv1(x)\n",
    "        x = self.conv2(x)\n",
    "        #recreate windows with flattened input features for rnn layer\n",
    "        x = x.reshape(self.batch_size, self.seq_length, -1)\n",
    "        #initialize hidden layer (why the fuck would anyone do this)\n",
    "        hidden = self.init_hidden()\n",
    "        #apply reccurent layer\n",
    "        out, hidden = self.rnn(x, hidden)\n",
    "        #only take last hidden state\n",
    "        #https://i.stack.imgur.com/SjnTl.png\n",
    "        out = out[:,self.seq_length-1::self.seq_length-1].reshape(-1, rnn_hidden)\n",
    "        #apply decision layers\n",
    "        out = self.fc1(out)\n",
    "        out = self.fc2(out)\n",
    "        out = self.fc3(out)\n",
    "        return out, hidden\n",
    "    \n",
    "    def init_hidden(self):\n",
    "        \n",
    "        #initialize hidden rnn layer with zeros\n",
    "        hidden = torch.zeros(1, self.batch_size, self.rnn_hidden).cuda()\n",
    "        return hidden"
   ]
  },
  {
   "cell_type": "code",
   "execution_count": 4,
   "metadata": {},
   "outputs": [],
   "source": [
    "%%capture\n",
    "#hyper paramters\n",
    "batch_size = 16\n",
    "seq_length = 5\n",
    "rnn_features = 4096*2\n",
    "n_epochs = 100\n",
    "n_train_examples = 200\n",
    "n_test_examples = 20\n",
    "rnn_hidden = 2**10\n",
    "lr=1e-2\n",
    "\n",
    "#initialize model\n",
    "model = Model(rnn_features=rnn_features, rnn_hidden=rnn_hidden, batch_size=batch_size, seq_length=seq_length)\n",
    "optimizer = torch.optim.Adam(model.parameters(), lr=lr)\n",
    "scheduler = ExponentialLR(optimizer, gamma=0.99)\n",
    "criterion = nn.MSELoss()\n",
    "\n",
    "#use gpu if available\n",
    "device = torch.device(\"cuda:0\" if torch.cuda.is_available() else \"cpu\")\n",
    "\n",
    "#create prediction model\n",
    "model.to(device)\n",
    "\n",
    "#download feature extractor\n",
    "cnn = EfficientNet.from_pretrained('efficientnet-b0')\n",
    "cnn.to(device)"
   ]
  },
  {
   "cell_type": "code",
   "execution_count": 5,
   "metadata": {},
   "outputs": [],
   "source": [
    "#function to create data loader\n",
    "def get_loader(n, batch_size):\n",
    "    #sample n images above sequence length index\n",
    "    sample_images = images[seq_length:].sample(n).index\n",
    "    #create windows using efficientbet-b0\n",
    "    sequences, targets = [], []\n",
    "    for sample in tqdm(sample_images):\n",
    "        window = images[sample-seq_length+1:sample+1].Image\n",
    "        temp = []\n",
    "        for of in window:\n",
    "            im = torch.tensor(of.reshape(1,3,480,640).numpy()).float().cuda()\n",
    "            features = cnn.extract_features(im).detach().cpu().numpy()\n",
    "            features = features.reshape(features.shape[1:])\n",
    "            temp.append(features)\n",
    "        label = labels[sample-seq_length+1:sample+1]\n",
    "        sequences.append(np.array(temp))\n",
    "        targets.append(label)\n",
    "    return sequences, targets"
   ]
  },
  {
   "cell_type": "code",
   "execution_count": 6,
   "metadata": {},
   "outputs": [],
   "source": [
    "#data loader classes\n",
    "class MyTrainDataloader(torch.utils.data.Dataset):\n",
    "    def __init__(self):\n",
    "        self.images = torch.Tensor(x_train)\n",
    "\n",
    "    def __len__(self):\n",
    "        return len(x_train)\n",
    "\n",
    "    def __getitem__(self, idx):\n",
    "        return self.images[idx, :, :], y_train[idx]\n",
    "    \n",
    "class MyTestDataLoader(torch.utils.data.Dataset):\n",
    "    def __init__(self):\n",
    "        self.images = torch.Tensor(x_test)\n",
    "\n",
    "    def __len__(self):\n",
    "        return len(x_test)\n",
    "\n",
    "    def __getitem__(self, idx):\n",
    "        return self.images[idx, :, :], y_test[idx]"
   ]
  },
  {
   "cell_type": "code",
   "execution_count": 7,
   "metadata": {},
   "outputs": [
    {
     "name": "stderr",
     "output_type": "stream",
     "text": [
      "100%|██████████| 200/200 [00:36<00:00,  5.47it/s]\n",
      "100%|██████████| 20/20 [00:04<00:00,  4.94it/s]\n"
     ]
    }
   ],
   "source": [
    "#create train and test data loaders\n",
    "x_train, y_train = get_loader(n_train_examples, batch_size)\n",
    "x_test, y_test = get_loader(n_test_examples, batch_size)\n",
    "\n",
    "train_data = MyTrainDataloader()\n",
    "train_loader = torch.utils.data.DataLoader(train_data,\n",
    "                                           shuffle=True,\n",
    "                                           num_workers=2,\n",
    "                                           batch_size=batch_size,\n",
    "                                           drop_last=True)\n",
    "\n",
    "test_data = MyTestDataLoader()\n",
    "test_loader = torch.utils.data.DataLoader(test_data,\n",
    "                                           shuffle=True,\n",
    "                                           num_workers=2,\n",
    "                                           batch_size=batch_size,\n",
    "                                           drop_last=True)"
   ]
  },
  {
   "cell_type": "code",
   "execution_count": 8,
   "metadata": {},
   "outputs": [],
   "source": [
    "%%capture\n",
    "#for switching model between train and eval without cell output\n",
    "def train():\n",
    "    with io.capture_output() as captured:\n",
    "        model.train()\n",
    "\n",
    "def test():\n",
    "    with io.capture_output() as captured:\n",
    "        model.eval()"
   ]
  },
  {
   "cell_type": "code",
   "execution_count": 9,
   "metadata": {},
   "outputs": [
    {
     "name": "stdout",
     "output_type": "stream",
     "text": [
      "Epoch: 1/100.............\n",
      "Train MSE: 2459.2386\n",
      "Val MSE: 762.3265 \n",
      "\n",
      "Epoch: 2/100.............\n",
      "Train MSE: 636.4022\n",
      "Val MSE: 280.0166 \n",
      "\n",
      "Epoch: 3/100.............\n",
      "Train MSE: 201.1439\n",
      "Val MSE: 175.3254 \n",
      "\n",
      "Epoch: 4/100.............\n",
      "Train MSE: 102.3543\n",
      "Val MSE: 140.3883 \n",
      "\n",
      "Epoch: 5/100.............\n",
      "Train MSE: 87.5857\n",
      "Val MSE: 165.5199 \n",
      "\n",
      "Epoch: 6/100.............\n",
      "Train MSE: 84.9453\n",
      "Val MSE: 133.5028 \n",
      "\n"
     ]
    },
    {
     "ename": "KeyboardInterrupt",
     "evalue": "",
     "output_type": "error",
     "traceback": [
      "\u001b[0;31m---------------------------------------------------------------------------\u001b[0m",
      "\u001b[0;31mKeyboardInterrupt\u001b[0m                         Traceback (most recent call last)",
      "\u001b[0;32m/tmp/ipykernel_21702/3054924890.py\u001b[0m in \u001b[0;36m<module>\u001b[0;34m\u001b[0m\n\u001b[1;32m     15\u001b[0m         \u001b[0mx\u001b[0m\u001b[0;34m,\u001b[0m \u001b[0my\u001b[0m \u001b[0;34m=\u001b[0m \u001b[0mbatch\u001b[0m\u001b[0;34m[\u001b[0m\u001b[0;36m0\u001b[0m\u001b[0;34m]\u001b[0m\u001b[0;34m,\u001b[0m \u001b[0mbatch\u001b[0m\u001b[0;34m[\u001b[0m\u001b[0;36m1\u001b[0m\u001b[0;34m]\u001b[0m\u001b[0;34m\u001b[0m\u001b[0;34m\u001b[0m\u001b[0m\n\u001b[1;32m     16\u001b[0m         \u001b[0moptimizer\u001b[0m\u001b[0;34m.\u001b[0m\u001b[0mzero_grad\u001b[0m\u001b[0;34m(\u001b[0m\u001b[0;34m)\u001b[0m\u001b[0;34m\u001b[0m\u001b[0;34m\u001b[0m\u001b[0m\n\u001b[0;32m---> 17\u001b[0;31m         \u001b[0moutput\u001b[0m\u001b[0;34m,\u001b[0m \u001b[0mhidden\u001b[0m \u001b[0;34m=\u001b[0m \u001b[0mmodel\u001b[0m\u001b[0;34m(\u001b[0m\u001b[0mtorch\u001b[0m\u001b[0;34m.\u001b[0m\u001b[0mtensor\u001b[0m\u001b[0;34m(\u001b[0m\u001b[0mx\u001b[0m\u001b[0;34m)\u001b[0m\u001b[0;34m.\u001b[0m\u001b[0mcuda\u001b[0m\u001b[0;34m(\u001b[0m\u001b[0;34m)\u001b[0m\u001b[0;34m)\u001b[0m\u001b[0;34m\u001b[0m\u001b[0;34m\u001b[0m\u001b[0m\n\u001b[0m\u001b[1;32m     18\u001b[0m         \u001b[0mloss\u001b[0m \u001b[0;34m=\u001b[0m \u001b[0mcriterion\u001b[0m\u001b[0;34m(\u001b[0m\u001b[0moutput\u001b[0m\u001b[0;34m.\u001b[0m\u001b[0mflatten\u001b[0m\u001b[0;34m(\u001b[0m\u001b[0;34m)\u001b[0m\u001b[0;34m,\u001b[0m \u001b[0mtorch\u001b[0m\u001b[0;34m.\u001b[0m\u001b[0mtensor\u001b[0m\u001b[0;34m(\u001b[0m\u001b[0my\u001b[0m\u001b[0;34m)\u001b[0m\u001b[0;34m[\u001b[0m\u001b[0;34m:\u001b[0m\u001b[0;34m,\u001b[0m\u001b[0;34m-\u001b[0m\u001b[0;36m1\u001b[0m\u001b[0;34m]\u001b[0m\u001b[0;34m.\u001b[0m\u001b[0mflatten\u001b[0m\u001b[0;34m(\u001b[0m\u001b[0;34m)\u001b[0m\u001b[0;34m.\u001b[0m\u001b[0mfloat\u001b[0m\u001b[0;34m(\u001b[0m\u001b[0;34m)\u001b[0m\u001b[0;34m.\u001b[0m\u001b[0mcuda\u001b[0m\u001b[0;34m(\u001b[0m\u001b[0;34m)\u001b[0m\u001b[0;34m)\u001b[0m\u001b[0;34m\u001b[0m\u001b[0;34m\u001b[0m\u001b[0m\n\u001b[1;32m     19\u001b[0m         \u001b[0mloss\u001b[0m\u001b[0;34m.\u001b[0m\u001b[0mbackward\u001b[0m\u001b[0;34m(\u001b[0m\u001b[0;34m)\u001b[0m\u001b[0;34m\u001b[0m\u001b[0;34m\u001b[0m\u001b[0m\n",
      "\u001b[0;32m~/.local/lib/python3.7/site-packages/torch/nn/modules/module.py\u001b[0m in \u001b[0;36m_call_impl\u001b[0;34m(self, *input, **kwargs)\u001b[0m\n\u001b[1;32m    720\u001b[0m             \u001b[0mresult\u001b[0m \u001b[0;34m=\u001b[0m \u001b[0mself\u001b[0m\u001b[0;34m.\u001b[0m\u001b[0m_slow_forward\u001b[0m\u001b[0;34m(\u001b[0m\u001b[0;34m*\u001b[0m\u001b[0minput\u001b[0m\u001b[0;34m,\u001b[0m \u001b[0;34m**\u001b[0m\u001b[0mkwargs\u001b[0m\u001b[0;34m)\u001b[0m\u001b[0;34m\u001b[0m\u001b[0;34m\u001b[0m\u001b[0m\n\u001b[1;32m    721\u001b[0m         \u001b[0;32melse\u001b[0m\u001b[0;34m:\u001b[0m\u001b[0;34m\u001b[0m\u001b[0;34m\u001b[0m\u001b[0m\n\u001b[0;32m--> 722\u001b[0;31m             \u001b[0mresult\u001b[0m \u001b[0;34m=\u001b[0m \u001b[0mself\u001b[0m\u001b[0;34m.\u001b[0m\u001b[0mforward\u001b[0m\u001b[0;34m(\u001b[0m\u001b[0;34m*\u001b[0m\u001b[0minput\u001b[0m\u001b[0;34m,\u001b[0m \u001b[0;34m**\u001b[0m\u001b[0mkwargs\u001b[0m\u001b[0;34m)\u001b[0m\u001b[0;34m\u001b[0m\u001b[0;34m\u001b[0m\u001b[0m\n\u001b[0m\u001b[1;32m    723\u001b[0m         for hook in itertools.chain(\n\u001b[1;32m    724\u001b[0m                 \u001b[0m_global_forward_hooks\u001b[0m\u001b[0;34m.\u001b[0m\u001b[0mvalues\u001b[0m\u001b[0;34m(\u001b[0m\u001b[0;34m)\u001b[0m\u001b[0;34m,\u001b[0m\u001b[0;34m\u001b[0m\u001b[0;34m\u001b[0m\u001b[0m\n",
      "\u001b[0;32m/tmp/ipykernel_21702/3965209848.py\u001b[0m in \u001b[0;36mforward\u001b[0;34m(self, x)\u001b[0m\n\u001b[1;32m     30\u001b[0m         \u001b[0mx\u001b[0m \u001b[0;34m=\u001b[0m \u001b[0mx\u001b[0m\u001b[0;34m.\u001b[0m\u001b[0mreshape\u001b[0m\u001b[0;34m(\u001b[0m\u001b[0mself\u001b[0m\u001b[0;34m.\u001b[0m\u001b[0mbatch_size\u001b[0m\u001b[0;34m,\u001b[0m \u001b[0mself\u001b[0m\u001b[0;34m.\u001b[0m\u001b[0mseq_length\u001b[0m\u001b[0;34m,\u001b[0m \u001b[0;34m-\u001b[0m\u001b[0;36m1\u001b[0m\u001b[0;34m)\u001b[0m\u001b[0;34m\u001b[0m\u001b[0;34m\u001b[0m\u001b[0m\n\u001b[1;32m     31\u001b[0m         \u001b[0;31m#initialize hidden layer (why the fuck would anyone do this)\u001b[0m\u001b[0;34m\u001b[0m\u001b[0;34m\u001b[0m\u001b[0;34m\u001b[0m\u001b[0m\n\u001b[0;32m---> 32\u001b[0;31m         \u001b[0mhidden\u001b[0m \u001b[0;34m=\u001b[0m \u001b[0mself\u001b[0m\u001b[0;34m.\u001b[0m\u001b[0minit_hidden\u001b[0m\u001b[0;34m(\u001b[0m\u001b[0;34m)\u001b[0m\u001b[0;34m\u001b[0m\u001b[0;34m\u001b[0m\u001b[0m\n\u001b[0m\u001b[1;32m     33\u001b[0m         \u001b[0;31m#apply reccurent layer\u001b[0m\u001b[0;34m\u001b[0m\u001b[0;34m\u001b[0m\u001b[0;34m\u001b[0m\u001b[0m\n\u001b[1;32m     34\u001b[0m         \u001b[0mout\u001b[0m\u001b[0;34m,\u001b[0m \u001b[0mhidden\u001b[0m \u001b[0;34m=\u001b[0m \u001b[0mself\u001b[0m\u001b[0;34m.\u001b[0m\u001b[0mrnn\u001b[0m\u001b[0;34m(\u001b[0m\u001b[0mx\u001b[0m\u001b[0;34m,\u001b[0m \u001b[0mhidden\u001b[0m\u001b[0;34m)\u001b[0m\u001b[0;34m\u001b[0m\u001b[0;34m\u001b[0m\u001b[0m\n",
      "\u001b[0;32m/tmp/ipykernel_21702/3965209848.py\u001b[0m in \u001b[0;36minit_hidden\u001b[0;34m(self)\u001b[0m\n\u001b[1;32m     45\u001b[0m \u001b[0;34m\u001b[0m\u001b[0m\n\u001b[1;32m     46\u001b[0m         \u001b[0;31m#initialize hidden rnn layer with zeros\u001b[0m\u001b[0;34m\u001b[0m\u001b[0;34m\u001b[0m\u001b[0;34m\u001b[0m\u001b[0m\n\u001b[0;32m---> 47\u001b[0;31m         \u001b[0mhidden\u001b[0m \u001b[0;34m=\u001b[0m \u001b[0mtorch\u001b[0m\u001b[0;34m.\u001b[0m\u001b[0mzeros\u001b[0m\u001b[0;34m(\u001b[0m\u001b[0;36m1\u001b[0m\u001b[0;34m,\u001b[0m \u001b[0mself\u001b[0m\u001b[0;34m.\u001b[0m\u001b[0mbatch_size\u001b[0m\u001b[0;34m,\u001b[0m \u001b[0mself\u001b[0m\u001b[0;34m.\u001b[0m\u001b[0mrnn_hidden\u001b[0m\u001b[0;34m)\u001b[0m\u001b[0;34m.\u001b[0m\u001b[0mcuda\u001b[0m\u001b[0;34m(\u001b[0m\u001b[0;34m)\u001b[0m\u001b[0;34m\u001b[0m\u001b[0;34m\u001b[0m\u001b[0m\n\u001b[0m\u001b[1;32m     48\u001b[0m         \u001b[0;32mreturn\u001b[0m \u001b[0mhidden\u001b[0m\u001b[0;34m\u001b[0m\u001b[0;34m\u001b[0m\u001b[0m\n",
      "\u001b[0;31mKeyboardInterrupt\u001b[0m: "
     ]
    }
   ],
   "source": [
    "warnings.filterwarnings(\"ignore\")\n",
    "\n",
    "#track loss values\n",
    "batch_train_loss = []\n",
    "train_loss = []\n",
    "val_loss = []\n",
    "\n",
    "#begin training\n",
    "for epoch in range(1, n_epochs + 1):\n",
    "    \n",
    "    #train\n",
    "    train()\n",
    "    train_loss = []\n",
    "    for batch in train_loader:\n",
    "        x, y = batch[0], batch[1]\n",
    "        optimizer.zero_grad()\n",
    "        output, hidden = model(torch.tensor(x).cuda())\n",
    "        loss = criterion(output.flatten(), torch.tensor(y)[:,-1].flatten().float().cuda())\n",
    "        loss.backward()\n",
    "        optimizer.step()\n",
    "        train_loss.append(loss.item())\n",
    "        batch_train_loss.append(loss.item())\n",
    "    scheduler.step()\n",
    "    \n",
    "    #validate\n",
    "    if epoch%1 == 0:\n",
    "        test()\n",
    "        val_loss = []\n",
    "        for batch in test_loader:\n",
    "            x, y = batch[0], batch[1]\n",
    "            output, hidden = model(torch.tensor(x).cuda())\n",
    "            loss = criterion(output.flatten(), torch.tensor(y)[:,-1].flatten().float().cuda())\n",
    "            val_loss.append(loss.item())\n",
    "        \n",
    "        #print progress\n",
    "        print('Epoch: {}/{}.............'.format(epoch, n_epochs))\n",
    "        print(\"Train MSE: {:.4f}\".format(statistics.mean(train_loss)))\n",
    "        print(\"Val MSE: {:.4f}\".format(statistics.mean(val_loss)), \"\\n\")\n",
    "        \n",
    "        #track loss\n",
    "        train_loss.append(statistics.mean(train_loss))\n",
    "        val_loss.append(statistics.mean(val_loss))"
   ]
  },
  {
   "cell_type": "code",
   "execution_count": 94,
   "metadata": {},
   "outputs": [],
   "source": [
    "x = images.iloc[0].Image.reshape(1,3,480,640).float()\n",
    "conv1 = nn.Conv2d(3,16,11,stride=7)\n",
    "x = conv1(x)\n",
    "conv2 = nn.Conv2d(16,32,7,stride=5)\n",
    "x = conv2(x)"
   ]
  },
  {
   "cell_type": "code",
   "execution_count": 95,
   "metadata": {},
   "outputs": [
    {
     "data": {
      "text/plain": [
       "torch.Size([7072])"
      ]
     },
     "execution_count": 95,
     "metadata": {},
     "output_type": "execute_result"
    }
   ],
   "source": [
    "x.flatten().shape"
   ]
  },
  {
   "cell_type": "code",
   "execution_count": null,
   "metadata": {},
   "outputs": [],
   "source": []
  }
 ],
 "metadata": {
  "kernelspec": {
   "display_name": "Python 3 (ipykernel)",
   "language": "python",
   "name": "python3"
  },
  "language_info": {
   "codemirror_mode": {
    "name": "ipython",
    "version": 3
   },
   "file_extension": ".py",
   "mimetype": "text/x-python",
   "name": "python",
   "nbconvert_exporter": "python",
   "pygments_lexer": "ipython3",
   "version": "3.7.11"
  }
 },
 "nbformat": 4,
 "nbformat_minor": 4
}
